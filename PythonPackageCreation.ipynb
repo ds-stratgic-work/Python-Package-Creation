{
 "cells": [
  {
   "cell_type": "markdown",
   "id": "1b9ae9bd-9af5-4f28-b21d-dd23eb77e084",
   "metadata": {},
   "source": [
    "# Comprehensive Guide to Create Python Package"
   ]
  },
  {
   "cell_type": "markdown",
   "id": "2fe8d448-9205-41c0-b3a9-5ed0ec87e068",
   "metadata": {},
   "source": [
    "## Contents\n",
    "[1.Introduction](#1.-Introduction)\\\n",
    "[2.Write Code](#2.-Write_Code)\\\n",
    "[3.Convert code to local Package](#3.-Convert_code_to_local_Package)\\\n",
    "* Add Documentation\\\n",
    "  \n",
    "[4.Convert Code to Installable Package](#4.-Convert_Code_to_Installable_Package)\\\n",
    "[5.Add setup script](#5.-Add_setup_script)\\\n",
    "[6.Add Readme](#6.-Add_Readme)\\\n",
    "[7.Add LICENSE](#7.-Add_LICENSE)\\\n",
    "[8.Publish to PYPI](#8.Publish_to_PYPI)\n",
    "* i. Create Distribution\n",
    "* ii. Install twine\n",
    "* iii. Upload with twine\n",
    "    \n",
    "\n"
   ]
  },
  {
   "cell_type": "markdown",
   "id": "9f76e246-376f-44e6-95a2-cd33ca4097c9",
   "metadata": {},
   "source": [
    "# 1. Introduction:\n",
    "    Python Packages are a way to organize our code into reusable components. As a folder contains subfolders and files in it, likewise a package also contains Modules in a structured way. It allows us to share the code with others. These are easy to access and can be reused for different projects."
   ]
  },
  {
   "cell_type": "markdown",
   "id": "8a3c8176-760d-4c33-bfcc-2b10438edae1",
   "metadata": {},
   "source": [
    "# 2. Write Code\n",
    "To make it simple we create a script that will multiply one with another"
   ]
  },
  {
   "cell_type": "code",
   "execution_count": 1,
   "id": "b996c8a5-a2e6-4958-9d7f-057a8222c996",
   "metadata": {},
   "outputs": [
    {
     "name": "stdout",
     "output_type": "stream",
     "text": [
      "30\n"
     ]
    }
   ],
   "source": [
    "# input a number and assign a value\n",
    "number = 10\n",
    "\n",
    "# Multiply the number by 3 and store in the result\n",
    "result = number * 3\n",
    "\n",
    "# Display with print\n",
    "print(result)"
   ]
  },
  {
   "cell_type": "markdown",
   "id": "a9362ed9-efb6-4bb0-936d-e286c234d0d4",
   "metadata": {},
   "source": [
    "### Now we shall convert the script into a documented Function"
   ]
  },
  {
   "cell_type": "code",
   "execution_count": 2,
   "id": "54614992-31f4-423a-9804-d3caaa14ae21",
   "metadata": {},
   "outputs": [
    {
     "name": "stdout",
     "output_type": "stream",
     "text": [
      "30\n"
     ]
    }
   ],
   "source": [
    "def multiply(number, multiplier):\n",
    "    \"\"\"\n",
    "    Multiply the number by a given multiplier. \n",
    "    \n",
    "    : param number: The number to multiply.\n",
    "    : type number: int\n",
    "    \n",
    "    : param multiplier: The multiplier.\n",
    "    :type multiplier: int\n",
    "    \"\"\"\n",
    "    \n",
    "    return number * multiplier\n",
    "\n",
    "# Call the function\n",
    "print(multiply(10,3))"
   ]
  },
  {
   "cell_type": "markdown",
   "id": "94552dd0-c18f-458e-b78c-619e90c475c1",
   "metadata": {},
   "source": [
    "### Transform code into an Object"
   ]
  },
  {
   "cell_type": "code",
   "execution_count": 3,
   "id": "862bda14-3f09-42c9-ba30-9e783be6f13f",
   "metadata": {},
   "outputs": [
    {
     "name": "stdout",
     "output_type": "stream",
     "text": [
      "30\n"
     ]
    }
   ],
   "source": [
    "class Multiply:\n",
    "    \"\"\"\n",
    "    The multiplication operator is instantiated.\n",
    "    The number will be multiplied by the multiplier.\n",
    "\n",
    "    : param multiplier: The multiplier.\n",
    "    : type multiplier: int\n",
    "    \n",
    "    \"\"\"\n",
    "    \n",
    "    def __init__(self, multiplier):\n",
    "        self.multiplier = multiplier\n",
    "    \n",
    "    def multiply(self, number):\n",
    "        \n",
    "        \"\"\"\n",
    "        Multiply a given number with a multiplier.\n",
    "\n",
    "        : param number: The number to multiply.\n",
    "        : type number: int\n",
    "\n",
    "        :return: The result of the multiplication.\n",
    "        : return type: int\n",
    "        \n",
    "       \"\"\"\n",
    "        \n",
    "        return number * self.multiplier\n",
    "\n",
    "# instantiate multiplication object\n",
    "multiplication = Multiply(3)\n",
    "\n",
    "# Call the function\n",
    "print(multiplication.multiply(10))"
   ]
  },
  {
   "cell_type": "markdown",
   "id": "c0cf5142-82fa-459b-864c-8e96ac3f6b4c",
   "metadata": {},
   "source": [
    "# 3. Convert code to Local Package"
   ]
  },
  {
   "cell_type": "code",
   "execution_count": 10,
   "id": "de4ef1b5-8d67-4907-bfef-50282ea88b0a",
   "metadata": {},
   "outputs": [
    {
     "ename": "SyntaxError",
     "evalue": "invalid syntax (3070909690.py, line 2)",
     "output_type": "error",
     "traceback": [
      "\u001b[1;36m  Cell \u001b[1;32mIn[10], line 2\u001b[1;36m\u001b[0m\n\u001b[1;33m    -  under the root directory of the repository placed a file named __init__.py. This file should always be empty.\u001b[0m\n\u001b[1;37m             ^\u001b[0m\n\u001b[1;31mSyntaxError\u001b[0m\u001b[1;31m:\u001b[0m invalid syntax\n"
     ]
    }
   ],
   "source": [
    "\n",
    "### Create a specific Folder Structure for the package\n",
    "-  under the root directory of the repository placed a file named __init__.py. This file should always be empty.\n",
    "\n",
    "C:\\Users\\Name\\source\\repo\r\n",
    "│   \r\n",
    "│\r\n",
    "└───payload\\\r\n",
    "            payload/\r\n",
    "    │            multiplication.py\r\n",
    "    │             __init__.py\r\n",
    "    │\r\n",
    "    ├─LICENSE.txt\r\n",
    "    ├─main.py\r\n",
    "    ├─Readme. md\r\n",
    "    ├─setup.py\r\n"
   ]
  },
  {
   "cell_type": "markdown",
   "id": "069e2e2f-c1b4-4e10-9da0-cd9427a4fe6d",
   "metadata": {},
   "source": []
  },
  {
   "cell_type": "markdown",
   "id": "b82740ca-d760-4771-8d1e-fa959e623012",
   "metadata": {},
   "source": [
    "### Create a Python Package Locally and give a name \n",
    "for example, here the package name is pyLoad, and a subfolder is created within this with the same name as the package. This will contain all the scripts we have created.\n",
    "- A Python package is simply a folder with a \"__init__.py \" file in it.\n",
    "- All the Functions, Objects, Files, and Variables can be imported from anywhere in the project."
   ]
  },
  {
   "cell_type": "code",
   "execution_count": 11,
   "id": "a3e1d1fe-1798-4bca-963d-895722747e9f",
   "metadata": {},
   "outputs": [
    {
     "name": "stdout",
     "output_type": "stream",
     "text": [
      "30\n"
     ]
    }
   ],
   "source": [
    "#######import the function to the library\n",
    "#from pyLoad.multiplication import Multiply # Command to import package\n",
    "\n",
    "###### Instantiate a Multiplication object\n",
    "multiplication = Multiply(3)\n",
    "\n",
    "###### Call the multiply method\n",
    "print(multiplication.multiply(10))"
   ]
  },
  {
   "cell_type": "markdown",
   "id": "d9ce969b-996d-490c-ab74-238f4d56cc9e",
   "metadata": {},
   "source": [
    "# 4. Convert code to Installable Package\n"
   ]
  },
  {
   "cell_type": "markdown",
   "id": "703b0799-6916-400c-aa14-714fd1b90119",
   "metadata": {},
   "source": [
    "- The source of the package has been inside a subfolder. The package folder can be accessed directly. Now, to make the installation of the package we have to create a setup.py file. The setup.py should not be part of the source code of the package.\r\n",
    ".py."
   ]
  },
  {
   "cell_type": "code",
   "execution_count": null,
   "id": "671bdb25-0e3d-454a-8363-24cc621ef941",
   "metadata": {},
   "outputs": [],
   "source": [
    "# Setup file created\n",
    "\n",
    "from setuptools import setup, find_packages\n",
    "\n",
    "setup(\n",
    "    author='name of the author',\n",
    "    description='simple multiplication',\n",
    "    name='pyLoad',\n",
    "    version='0.0.1',\n",
    "    packages=find_packages(include=['pyLoad','pyLoad.*']),\n",
    ")"
   ]
  },
  {
   "cell_type": "markdown",
   "id": "50e799f0-7905-443d-bed9-eef523407b99",
   "metadata": {},
   "source": [
    "# 5. Add README.md\n",
    "\n",
    "Readme.md file is the most important. This acts as the front page of the package. While hosting on PYPI or Github this file will be displayed there.\r\n",
    "Readme includes:\n",
    "- A title\n",
    "- Description\n",
    "- Purpose\n",
    "- Installation\n",
    "- A note on the type of License used.e:nse used."
   ]
  },
  {
   "cell_type": "markdown",
   "id": "311a25c3-8dc8-48b2-bb87-b7223f0c5a11",
   "metadata": {},
   "source": [
    "# 6. Add LICENSE\n",
    "Adding a license is as important as readme. \n",
    "-Go to https://www.chooselicense.co/ \n",
    "- Choose a License # Here, MIT License has been chosen for the project\n",
    "- Copy the contain\n",
    "- Paste in the project License file as in text file.\n",
    "- Change the name and the year"
   ]
  },
  {
   "cell_type": "markdown",
   "id": "9cc19a35-e742-44b1-9514-e634f3fdda49",
   "metadata": {},
   "source": [
    "# 7. Publish to PyPI\n",
    "* i. Create Distribution\n",
    "* ii. Install twine\n",
    "* iii. Upload with twine\n",
    "\n",
    "* PyPi is an online code repository where anyone can register for free and can upload the package.\n",
    "* First we have to create a distribution. Distributions are of two types one for source distribution and another one for wheel distribution.\n",
    "* source distribution contains all the Python files as part of the package.\n",
    "* wheel distribution is the process version of the package.\n",
    "* pip will use the wheel distribution if available."
   ]
  },
  {
   "cell_type": "code",
   "execution_count": 12,
   "id": "f9e94871-575f-45ae-bd31-7b225e7d01ec",
   "metadata": {},
   "outputs": [
    {
     "ename": "SyntaxError",
     "evalue": "invalid syntax (1419760461.py, line 2)",
     "output_type": "error",
     "traceback": [
      "\u001b[1;36m  Cell \u001b[1;32mIn[12], line 2\u001b[1;36m\u001b[0m\n\u001b[1;33m    python setup.py sdist bdist_wheel\u001b[0m\n\u001b[1;37m           ^\u001b[0m\n\u001b[1;31mSyntaxError\u001b[0m\u001b[1;31m:\u001b[0m invalid syntax\n"
     ]
    }
   ],
   "source": [
    "### ii. Create distribution\n",
    "python setup.py sdist bdist_wheel"
   ]
  },
  {
   "cell_type": "markdown",
   "id": "b69d96f5-d623-4e11-8e66-1cba432a05e1",
   "metadata": {},
   "source": [
    "- The arguments sdist and bdist_wheel are used to build the source and wheel distribution. The result of the command is a dist folder. In addition, this command creates egg-info directories and that can be ignored."
   ]
  },
  {
   "cell_type": "markdown",
   "id": "73298306-a6b2-49de-a271-bd1ba8d19a5d",
   "metadata": {},
   "source": [
    "# twine upload\n",
    "- Before uploading we need to generate an API key.\n",
    "- Open the: test.pypi.org\n",
    "- Login to the account\n",
    "- Go to Account setting\n",
    "- Scroll down to the ADD API option\n",
    "- Generate API Key\n",
    "- Copy it as this is the one-time kay.\n",
    "  "
   ]
  },
  {
   "cell_type": "code",
   "execution_count": null,
   "id": "6db6af37-3cb6-4733-b5e5-f764b9078219",
   "metadata": {},
   "outputs": [],
   "source": [
    "# Twine upload\n",
    "twine upload -r testpypi dist/*"
   ]
  }
 ],
 "metadata": {
  "kernelspec": {
   "display_name": "Python 3 (ipykernel)",
   "language": "python",
   "name": "python3"
  },
  "language_info": {
   "codemirror_mode": {
    "name": "ipython",
    "version": 3
   },
   "file_extension": ".py",
   "mimetype": "text/x-python",
   "name": "python",
   "nbconvert_exporter": "python",
   "pygments_lexer": "ipython3",
   "version": "3.11.7"
  },
  "widgets": {
   "application/vnd.jupyter.widget-state+json": {
    "state": {},
    "version_major": 2,
    "version_minor": 0
   }
  }
 },
 "nbformat": 4,
 "nbformat_minor": 5
}
